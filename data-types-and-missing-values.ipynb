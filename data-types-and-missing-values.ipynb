{
 "cells": [
  {
   "cell_type": "markdown",
   "id": "31faa003",
   "metadata": {
    "papermill": {
     "duration": 0.005636,
     "end_time": "2022-08-14T21:45:03.233651",
     "exception": false,
     "start_time": "2022-08-14T21:45:03.228015",
     "status": "completed"
    },
    "tags": []
   },
   "source": [
    "**This notebook is an exercise in the [Pandas](https://www.kaggle.com/learn/pandas) course.  You can reference the tutorial at [this link](https://www.kaggle.com/residentmario/data-types-and-missing-values).**\n",
    "\n",
    "---\n"
   ]
  },
  {
   "cell_type": "markdown",
   "id": "69d72f05",
   "metadata": {
    "papermill": {
     "duration": 0.004064,
     "end_time": "2022-08-14T21:45:03.242496",
     "exception": false,
     "start_time": "2022-08-14T21:45:03.238432",
     "status": "completed"
    },
    "tags": []
   },
   "source": [
    "# Introduction\n",
    "\n",
    "Run the following cell to load your data and some utility functions."
   ]
  },
  {
   "cell_type": "code",
   "execution_count": 1,
   "id": "a699bb27",
   "metadata": {
    "execution": {
     "iopub.execute_input": "2022-08-14T21:45:03.253389Z",
     "iopub.status.busy": "2022-08-14T21:45:03.252856Z",
     "iopub.status.idle": "2022-08-14T21:45:06.707852Z",
     "shell.execute_reply": "2022-08-14T21:45:06.706570Z"
    },
    "papermill": {
     "duration": 3.465022,
     "end_time": "2022-08-14T21:45:06.711838",
     "exception": false,
     "start_time": "2022-08-14T21:45:03.246816",
     "status": "completed"
    },
    "tags": []
   },
   "outputs": [
    {
     "name": "stdout",
     "output_type": "stream",
     "text": [
      "Setup complete.\n"
     ]
    }
   ],
   "source": [
    "import pandas as pd\n",
    "\n",
    "reviews = pd.read_csv(\"../input/wine-reviews/winemag-data-130k-v2.csv\", index_col=0)\n",
    "\n",
    "from learntools.core import binder; binder.bind(globals())\n",
    "from learntools.pandas.data_types_and_missing_data import *\n",
    "print(\"Setup complete.\")"
   ]
  },
  {
   "cell_type": "markdown",
   "id": "b2efc268",
   "metadata": {
    "papermill": {
     "duration": 0.004554,
     "end_time": "2022-08-14T21:45:06.721941",
     "exception": false,
     "start_time": "2022-08-14T21:45:06.717387",
     "status": "completed"
    },
    "tags": []
   },
   "source": [
    "# Exercises"
   ]
  },
  {
   "cell_type": "markdown",
   "id": "fd72abd5",
   "metadata": {
    "papermill": {
     "duration": 0.004163,
     "end_time": "2022-08-14T21:45:06.730579",
     "exception": false,
     "start_time": "2022-08-14T21:45:06.726416",
     "status": "completed"
    },
    "tags": []
   },
   "source": [
    "## 1. \n",
    "What is the data type of the `points` column in the dataset?"
   ]
  },
  {
   "cell_type": "code",
   "execution_count": 2,
   "id": "7653bb7f",
   "metadata": {
    "execution": {
     "iopub.execute_input": "2022-08-14T21:45:06.742400Z",
     "iopub.status.busy": "2022-08-14T21:45:06.741644Z",
     "iopub.status.idle": "2022-08-14T21:45:06.753941Z",
     "shell.execute_reply": "2022-08-14T21:45:06.752905Z"
    },
    "papermill": {
     "duration": 0.021122,
     "end_time": "2022-08-14T21:45:06.756229",
     "exception": false,
     "start_time": "2022-08-14T21:45:06.735107",
     "status": "completed"
    },
    "tags": []
   },
   "outputs": [
    {
     "data": {
      "application/javascript": [
       "parent.postMessage({\"jupyterEvent\": \"custom.exercise_interaction\", \"data\": {\"outcomeType\": 1, \"valueTowardsCompletion\": 0.25, \"interactionType\": 1, \"questionType\": 1, \"questionId\": \"1_PointsDtype\", \"learnToolsVersion\": \"0.3.4\", \"failureMessage\": \"\", \"exceptionClass\": \"\", \"trace\": \"\"}}, \"*\")"
      ],
      "text/plain": [
       "<IPython.core.display.Javascript object>"
      ]
     },
     "metadata": {},
     "output_type": "display_data"
    },
    {
     "data": {
      "text/markdown": [
       "<span style=\"color:#33cc33\">Correct</span>"
      ],
      "text/plain": [
       "Correct"
      ]
     },
     "metadata": {},
     "output_type": "display_data"
    }
   ],
   "source": [
    "# Your code here\n",
    "dtype = reviews.points.dtype\n",
    "# Check your answer\n",
    "q1.check()"
   ]
  },
  {
   "cell_type": "code",
   "execution_count": 3,
   "id": "b7f6a20f",
   "metadata": {
    "execution": {
     "iopub.execute_input": "2022-08-14T21:45:06.768261Z",
     "iopub.status.busy": "2022-08-14T21:45:06.767467Z",
     "iopub.status.idle": "2022-08-14T21:45:06.771877Z",
     "shell.execute_reply": "2022-08-14T21:45:06.770639Z"
    },
    "papermill": {
     "duration": 0.013719,
     "end_time": "2022-08-14T21:45:06.774847",
     "exception": false,
     "start_time": "2022-08-14T21:45:06.761128",
     "status": "completed"
    },
    "tags": []
   },
   "outputs": [],
   "source": [
    "#q1.hint()\n",
    "#q1.solution()"
   ]
  },
  {
   "cell_type": "markdown",
   "id": "e495a3ba",
   "metadata": {
    "papermill": {
     "duration": 0.004657,
     "end_time": "2022-08-14T21:45:06.784652",
     "exception": false,
     "start_time": "2022-08-14T21:45:06.779995",
     "status": "completed"
    },
    "tags": []
   },
   "source": [
    "## 2. \n",
    "Create a Series from entries in the `points` column, but convert the entries to strings. Hint: strings are `str` in native Python."
   ]
  },
  {
   "cell_type": "code",
   "execution_count": 4,
   "id": "de407bfa",
   "metadata": {
    "execution": {
     "iopub.execute_input": "2022-08-14T21:45:06.797538Z",
     "iopub.status.busy": "2022-08-14T21:45:06.796767Z",
     "iopub.status.idle": "2022-08-14T21:45:06.879460Z",
     "shell.execute_reply": "2022-08-14T21:45:06.878069Z"
    },
    "papermill": {
     "duration": 0.092864,
     "end_time": "2022-08-14T21:45:06.882390",
     "exception": false,
     "start_time": "2022-08-14T21:45:06.789526",
     "status": "completed"
    },
    "tags": []
   },
   "outputs": [
    {
     "data": {
      "application/javascript": [
       "parent.postMessage({\"jupyterEvent\": \"custom.exercise_interaction\", \"data\": {\"outcomeType\": 1, \"valueTowardsCompletion\": 0.25, \"interactionType\": 1, \"questionType\": 1, \"questionId\": \"2_StrPoints\", \"learnToolsVersion\": \"0.3.4\", \"failureMessage\": \"\", \"exceptionClass\": \"\", \"trace\": \"\"}}, \"*\")"
      ],
      "text/plain": [
       "<IPython.core.display.Javascript object>"
      ]
     },
     "metadata": {},
     "output_type": "display_data"
    },
    {
     "data": {
      "text/markdown": [
       "<span style=\"color:#33cc33\">Correct</span>"
      ],
      "text/plain": [
       "Correct"
      ]
     },
     "metadata": {},
     "output_type": "display_data"
    }
   ],
   "source": [
    "point_strings = reviews.points.astype(str)\n",
    "\n",
    "# Check your answer\n",
    "q2.check()"
   ]
  },
  {
   "cell_type": "code",
   "execution_count": 5,
   "id": "a83e1ad6",
   "metadata": {
    "execution": {
     "iopub.execute_input": "2022-08-14T21:45:06.895115Z",
     "iopub.status.busy": "2022-08-14T21:45:06.894687Z",
     "iopub.status.idle": "2022-08-14T21:45:06.899592Z",
     "shell.execute_reply": "2022-08-14T21:45:06.898111Z"
    },
    "papermill": {
     "duration": 0.014254,
     "end_time": "2022-08-14T21:45:06.902028",
     "exception": false,
     "start_time": "2022-08-14T21:45:06.887774",
     "status": "completed"
    },
    "tags": []
   },
   "outputs": [],
   "source": [
    "#q2.hint()\n",
    "#q2.solution()"
   ]
  },
  {
   "cell_type": "markdown",
   "id": "dba920a3",
   "metadata": {
    "papermill": {
     "duration": 0.004625,
     "end_time": "2022-08-14T21:45:06.911869",
     "exception": false,
     "start_time": "2022-08-14T21:45:06.907244",
     "status": "completed"
    },
    "tags": []
   },
   "source": [
    "## 3.\n",
    "Sometimes the price column is null. How many reviews in the dataset are missing a price?"
   ]
  },
  {
   "cell_type": "code",
   "execution_count": 6,
   "id": "9bc8b153",
   "metadata": {
    "execution": {
     "iopub.execute_input": "2022-08-14T21:45:06.923945Z",
     "iopub.status.busy": "2022-08-14T21:45:06.923226Z",
     "iopub.status.idle": "2022-08-14T21:45:06.931598Z",
     "shell.execute_reply": "2022-08-14T21:45:06.930825Z"
    },
    "papermill": {
     "duration": 0.016907,
     "end_time": "2022-08-14T21:45:06.933711",
     "exception": false,
     "start_time": "2022-08-14T21:45:06.916804",
     "status": "completed"
    },
    "tags": []
   },
   "outputs": [
    {
     "data": {
      "application/javascript": [
       "parent.postMessage({\"jupyterEvent\": \"custom.exercise_interaction\", \"data\": {\"outcomeType\": 1, \"valueTowardsCompletion\": 0.25, \"interactionType\": 1, \"questionType\": 1, \"questionId\": \"3_CountMissingPrices\", \"learnToolsVersion\": \"0.3.4\", \"failureMessage\": \"\", \"exceptionClass\": \"\", \"trace\": \"\"}}, \"*\")"
      ],
      "text/plain": [
       "<IPython.core.display.Javascript object>"
      ]
     },
     "metadata": {},
     "output_type": "display_data"
    },
    {
     "data": {
      "text/markdown": [
       "<span style=\"color:#33cc33\">Correct</span>"
      ],
      "text/plain": [
       "Correct"
      ]
     },
     "metadata": {},
     "output_type": "display_data"
    }
   ],
   "source": [
    "n_missing_prices = reviews.price.isnull().sum()\n",
    "\n",
    "# Check your answer\n",
    "q3.check()"
   ]
  },
  {
   "cell_type": "code",
   "execution_count": 7,
   "id": "a94c9746",
   "metadata": {
    "execution": {
     "iopub.execute_input": "2022-08-14T21:45:06.945979Z",
     "iopub.status.busy": "2022-08-14T21:45:06.945373Z",
     "iopub.status.idle": "2022-08-14T21:45:06.948823Z",
     "shell.execute_reply": "2022-08-14T21:45:06.948087Z"
    },
    "papermill": {
     "duration": 0.012104,
     "end_time": "2022-08-14T21:45:06.950948",
     "exception": false,
     "start_time": "2022-08-14T21:45:06.938844",
     "status": "completed"
    },
    "tags": []
   },
   "outputs": [],
   "source": [
    "#q3.hint()\n",
    "#q3.solution()"
   ]
  },
  {
   "cell_type": "markdown",
   "id": "ddbd0e68",
   "metadata": {
    "papermill": {
     "duration": 0.004857,
     "end_time": "2022-08-14T21:45:06.961303",
     "exception": false,
     "start_time": "2022-08-14T21:45:06.956446",
     "status": "completed"
    },
    "tags": []
   },
   "source": [
    "## 4.\n",
    "What are the most common wine-producing regions? Create a Series counting the number of times each value occurs in the `region_1` field. This field is often missing data, so replace missing values with `Unknown`. Sort in descending order.  Your output should look something like this:\n",
    "\n",
    "```\n",
    "Unknown                    21247\n",
    "Napa Valley                 4480\n",
    "                           ...  \n",
    "Bardolino Superiore            1\n",
    "Primitivo del Tarantino        1\n",
    "Name: region_1, Length: 1230, dtype: int64\n",
    "```"
   ]
  },
  {
   "cell_type": "code",
   "execution_count": 8,
   "id": "5f3dc36e",
   "metadata": {
    "execution": {
     "iopub.execute_input": "2022-08-14T21:45:06.974374Z",
     "iopub.status.busy": "2022-08-14T21:45:06.973717Z",
     "iopub.status.idle": "2022-08-14T21:45:07.015858Z",
     "shell.execute_reply": "2022-08-14T21:45:07.015050Z"
    },
    "papermill": {
     "duration": 0.05117,
     "end_time": "2022-08-14T21:45:07.018025",
     "exception": false,
     "start_time": "2022-08-14T21:45:06.966855",
     "status": "completed"
    },
    "tags": []
   },
   "outputs": [
    {
     "data": {
      "application/javascript": [
       "parent.postMessage({\"jupyterEvent\": \"custom.exercise_interaction\", \"data\": {\"outcomeType\": 1, \"valueTowardsCompletion\": 0.25, \"interactionType\": 1, \"questionType\": 2, \"questionId\": \"4_ReviewsPerRegion\", \"learnToolsVersion\": \"0.3.4\", \"failureMessage\": \"\", \"exceptionClass\": \"\", \"trace\": \"\"}}, \"*\")"
      ],
      "text/plain": [
       "<IPython.core.display.Javascript object>"
      ]
     },
     "metadata": {},
     "output_type": "display_data"
    },
    {
     "data": {
      "text/markdown": [
       "<span style=\"color:#33cc33\">Correct</span>"
      ],
      "text/plain": [
       "Correct"
      ]
     },
     "metadata": {},
     "output_type": "display_data"
    }
   ],
   "source": [
    "reviews_per_region = reviews.region_1.fillna('Unknown').value_counts().sort_values(ascending=False)\n",
    "\n",
    "# Check your answer\n",
    "q4.check()"
   ]
  },
  {
   "cell_type": "code",
   "execution_count": 9,
   "id": "ada32b58",
   "metadata": {
    "execution": {
     "iopub.execute_input": "2022-08-14T21:45:07.030829Z",
     "iopub.status.busy": "2022-08-14T21:45:07.030402Z",
     "iopub.status.idle": "2022-08-14T21:45:07.034451Z",
     "shell.execute_reply": "2022-08-14T21:45:07.033540Z"
    },
    "papermill": {
     "duration": 0.013159,
     "end_time": "2022-08-14T21:45:07.036788",
     "exception": false,
     "start_time": "2022-08-14T21:45:07.023629",
     "status": "completed"
    },
    "tags": []
   },
   "outputs": [],
   "source": [
    "#q4.hint()\n",
    "#q4.solution()"
   ]
  },
  {
   "cell_type": "markdown",
   "id": "f1ff9f1e",
   "metadata": {
    "papermill": {
     "duration": 0.005187,
     "end_time": "2022-08-14T21:45:07.047638",
     "exception": false,
     "start_time": "2022-08-14T21:45:07.042451",
     "status": "completed"
    },
    "tags": []
   },
   "source": [
    "# Keep going\n",
    "\n",
    "Move on to **[renaming and combining](https://www.kaggle.com/residentmario/renaming-and-combining)**."
   ]
  },
  {
   "cell_type": "markdown",
   "id": "e0e2e330",
   "metadata": {
    "papermill": {
     "duration": 0.005454,
     "end_time": "2022-08-14T21:45:07.058339",
     "exception": false,
     "start_time": "2022-08-14T21:45:07.052885",
     "status": "completed"
    },
    "tags": []
   },
   "source": [
    "---\n",
    "\n",
    "\n",
    "\n",
    "\n",
    "*Have questions or comments? Visit the [course discussion forum](https://www.kaggle.com/learn/pandas/discussion) to chat with other learners.*"
   ]
  }
 ],
 "metadata": {
  "kernelspec": {
   "display_name": "Python 3",
   "language": "python",
   "name": "python3"
  },
  "language_info": {
   "codemirror_mode": {
    "name": "ipython",
    "version": 3
   },
   "file_extension": ".py",
   "mimetype": "text/x-python",
   "name": "python",
   "nbconvert_exporter": "python",
   "pygments_lexer": "ipython3",
   "version": "3.7.12"
  },
  "papermill": {
   "default_parameters": {},
   "duration": 15.65081,
   "end_time": "2022-08-14T21:45:07.786324",
   "environment_variables": {},
   "exception": null,
   "input_path": "__notebook__.ipynb",
   "output_path": "__notebook__.ipynb",
   "parameters": {},
   "start_time": "2022-08-14T21:44:52.135514",
   "version": "2.3.4"
  }
 },
 "nbformat": 4,
 "nbformat_minor": 5
}
